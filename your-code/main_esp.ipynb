{
 "cells": [
  {
   "cell_type": "markdown",
   "metadata": {},
   "source": [
    "# Antes de empezar:\n",
    "- Lee el archivo README.md\n",
    "- Comenta tanto como puedas y utiliza los recursos (archivo README.md)\n",
    "- ¡Feliz aprendizaje!"
   ]
  },
  {
   "cell_type": "code",
   "execution_count": 56,
   "metadata": {},
   "outputs": [],
   "source": [
    "# import numpy and pandas\n",
    "import pandas as pd\n",
    "import numpy as np\n",
    "from scipy.stats import trim_mean, mode, skew, gaussian_kde, pearsonr, spearmanr, beta\n",
    "from statsmodels.stats.weightstats import ztest as ztest\n",
    "\n",
    "from scipy.stats import ttest_ind, norm, t,ttest_1samp \n",
    "from scipy.stats import f_oneway\n",
    "from scipy.stats import sem"
   ]
  },
  {
   "cell_type": "markdown",
   "metadata": {},
   "source": [
    "# Reto 1 - Explorando los Datos\n",
    "\n",
    "En este reto, examinaremos todos los salarios de los empleados de la Ciudad de Chicago. Comenzaremos cargando el conjunto de datos y examinando su contenido."
   ]
  },
  {
   "cell_type": "code",
   "execution_count": 57,
   "metadata": {},
   "outputs": [
    {
     "name": "stderr",
     "output_type": "stream",
     "text": [
      "<>:2: SyntaxWarning: invalid escape sequence '\\d'\n",
      "<>:2: SyntaxWarning: invalid escape sequence '\\d'\n",
      "C:\\Users\\Aleja\\AppData\\Local\\Temp\\ipykernel_16676\\3272400965.py:2: SyntaxWarning: invalid escape sequence '\\d'\n",
      "  salaries = pd.read_csv('..\\data\\Current_Employee_Names__Salaries__and_Position_Titles.csv')\n"
     ]
    }
   ],
   "source": [
    "# Run this code:\n",
    "salaries = pd.read_csv('..\\data\\Current_Employee_Names__Salaries__and_Position_Titles.csv')\n",
    "#\\\\wsl.localhost\\Ubuntu\\home\\ubuntu\\my-labs\\21-lab-hypothesis-testing-es\\data\\Current_Employee_Names__Salaries__and_Position_Titles.csv\n",
    "#\\\\wsl.localhost\\Ubuntu\\home\\ubuntu\\my-labs\\21-lab-hypothesis-testing-es\\data\\Current_Employee_Names__Salaries__and_Position_Titles.csv"
   ]
  },
  {
   "cell_type": "markdown",
   "metadata": {},
   "source": [
    "Examina el conjunto de datos `salaries` utilizando la función `head` que se muestra a continuación."
   ]
  },
  {
   "cell_type": "code",
   "execution_count": 58,
   "metadata": {},
   "outputs": [
    {
     "name": "stdout",
     "output_type": "stream",
     "text": [
      "<class 'pandas.core.frame.DataFrame'>\n",
      "RangeIndex: 33183 entries, 0 to 33182\n",
      "Data columns (total 8 columns):\n",
      " #   Column             Non-Null Count  Dtype  \n",
      "---  ------             --------------  -----  \n",
      " 0   Name               33183 non-null  object \n",
      " 1   Job Titles         33183 non-null  object \n",
      " 2   Department         33183 non-null  object \n",
      " 3   Full or Part-Time  33183 non-null  object \n",
      " 4   Salary or Hourly   33183 non-null  object \n",
      " 5   Typical Hours      8022 non-null   float64\n",
      " 6   Annual Salary      25161 non-null  float64\n",
      " 7   Hourly Rate        8022 non-null   float64\n",
      "dtypes: float64(3), object(5)\n",
      "memory usage: 2.0+ MB\n",
      "None\n",
      "       Typical Hours  Annual Salary  Hourly Rate\n",
      "count    8022.000000   25161.000000  8022.000000\n",
      "mean       34.507604   86786.999790    32.788558\n",
      "std         9.252077   21041.354602    12.112573\n",
      "min        10.000000    7200.000000     2.650000\n",
      "25%        20.000000   76266.000000    21.200000\n",
      "50%        40.000000   90024.000000    35.600000\n",
      "75%        40.000000   96060.000000    40.200000\n",
      "max        40.000000  300000.000000   109.000000\n"
     ]
    }
   ],
   "source": [
    "# Your code here\n",
    "print(salaries.info())\n",
    "print(salaries.describe())"
   ]
  },
  {
   "cell_type": "markdown",
   "metadata": {},
   "source": [
    "# Reto 2 - Pruebas de Hipótesis\n",
    "\n",
    "En esta sección del laboratorio, vamos a probar si el salario por hora de todos los trabajadores por hora es significativamente diferente de $30/hora. Importa la función correcta para la prueba de una muestra desde scipy y realiza la prueba de hipótesis para un intervalo de confianza de dos lados del 95%."
   ]
  },
  {
   "cell_type": "code",
   "execution_count": 67,
   "metadata": {},
   "outputs": [
    {
     "name": "stdout",
     "output_type": "stream",
     "text": [
      "Prueba de hipótesis de una muestra:\n",
      "Estadístico t: 20.6198057854942\n",
      "Valor p: 4.3230240486229894e-92\n",
      "Podemos rechazar la hipótesis nula (H0). El salario por hora es significativamente diferente de $30/hora.\n"
     ]
    }
   ],
   "source": [
    "# Your code here\n",
    "# Definir el nivel de significancia (alpha)\n",
    "alpha = 0.05\n",
    "\n",
    "# Extraer los salarios por hora del DataFrame (suponiendo que 'Hourly Rate' contiene estos datos)\n",
    "hourly_rates = salaries['Hourly Rate'].dropna()  # Eliminar NaN si los hubiera\n",
    "\n",
    "# Realizar la prueba de hipótesis\n",
    "t_statistic, p_value = ttest_1samp(a=hourly_rates, popmean= 30)\n",
    "\n",
    "# Imprimir los resultados\n",
    "print(\"Prueba de hipótesis de una muestra:\")\n",
    "print(f\"Estadístico t: {t_statistic}\")\n",
    "print(f\"Valor p: {p_value}\")\n",
    "\n",
    "# Comparar el valor p con el nivel de significancia\n",
    "if p_value < alpha:\n",
    "    print(\"Podemos rechazar la hipótesis nula (H0). El salario por hora es significativamente diferente de $30/hora.\")\n",
    "else:\n",
    "    print(\"No podemos rechazar la hipótesis nula (H0). No hay evidencia suficiente para concluir que el salario por hora difiere significativamente de $30/hora.\")"
   ]
  },
  {
   "cell_type": "markdown",
   "metadata": {},
   "source": [
    "# Reto 3 - Construyendo Intervalos de Confianza\n",
    "\n",
    "Aunque probar nuestra hipótesis es una excelente manera de obtener evidencia empírica para aceptar o rechazar la hipótesis, otra forma de recopilar evidencia es creando un intervalo de confianza. Un intervalo de confianza nos brinda información sobre la media verdadera de la población. Por lo tanto, para un intervalo de confianza del 95%, estamos seguros en un 95% de que la media de la población se encuentra dentro del intervalo de confianza.\n",
    "\n",
    "Para leer más sobre los intervalos de confianza, haz clic [aquí](https://es.wikipedia.org/wiki/Intervalo_de_confianza).\n",
    "\n",
    "En la celda a continuación, construiremos un intervalo de confianza del 95% para el salario por hora medio de todos los trabajadores por hora.\n",
    "\n",
    "El intervalo de confianza se calcula en SciPy utilizando la función `t.interval`. Puedes leer más sobre esta función [aquí](https://docs.scipy.org/doc/scipy-0.14.0/reference/generated/scipy.stats.t.html).\n",
    "\n",
    "Para calcular el intervalo de confianza del salario por hora, usa 0.95 para el nivel de confianza, el número de filas - 1 para los grados de libertad, la media de la muestra para el parámetro de ubicación y el error estándar para la escala. El error estándar se puede calcular utilizando [esta](https://docs.scipy.org/doc/scipy/reference/generated/scipy.stats.sem.html) función en SciPy."
   ]
  },
  {
   "cell_type": "code",
   "execution_count": 60,
   "metadata": {},
   "outputs": [],
   "source": [
    "# Your code here\n",
    "df_temporal= salaries['Hourly Rate'].copy()\n",
    "df_temporal= df_temporal.dropna()"
   ]
  },
  {
   "cell_type": "code",
   "execution_count": 61,
   "metadata": {},
   "outputs": [
    {
     "name": "stdout",
     "output_type": "stream",
     "text": [
      "Intervalo de confianza del 95%: (32.52347486867093, 33.053640563889545)\n"
     ]
    }
   ],
   "source": [
    "n = len(df_temporal)\n",
    "df = n - 1\n",
    "\n",
    "# Calcular el margen de error\n",
    "t_critico = t.ppf(0.975, df)  # Prueba de dos colas, 95% de confianza\n",
    "margen_error = t_critico * (np.std(df_temporal) / np.sqrt(n))\n",
    "\n",
    "# Calcular el intervalo de confianza\n",
    "intervalo_confianza = (np.mean(df_temporal) - margen_error, np.mean(df_temporal) + margen_error)\n",
    "\n",
    "print(\"Intervalo de confianza del 95%:\", intervalo_confianza)"
   ]
  },
  {
   "cell_type": "markdown",
   "metadata": {},
   "source": [
    "# Reto 4 - Pruebas de Hipótesis de Proporciones\n",
    "\n",
    "Otro tipo de prueba de una muestra es una prueba de hipótesis de proporciones. En esta prueba, examinamos si la proporción de un grupo en nuestra muestra es significativamente diferente de una fracción.\n",
    "\n",
    "Puedes leer más sobre las pruebas de proporción de una muestra [aquí](http://sphweb.bumc.bu.edu/otlt/MPH-Modules/BS/SAS/SAS6-CategoricalData/SAS6-CategoricalData2.html).\n",
    "\n",
    "En la celda a continuación, utiliza la función `proportions_ztest` de `statsmodels` para realizar una prueba de hipótesis que determinará si el número de trabajadores por hora en la Ciudad de Chicago es significativamente diferente del 25% en el nivel de confianza del 95%."
   ]
  },
  {
   "cell_type": "code",
   "execution_count": 66,
   "metadata": {},
   "outputs": [
    {
     "name": "stdout",
     "output_type": "stream",
     "text": [
      "Estadístico z: -3.5100\n",
      "Valor p: 0.0004\n",
      "Rechazamos la hipótesis nula. Hay evidencia suficiente para concluir que la proporción de trabajadores por hora en Chicago es significativamente diferente del 25%.\n"
     ]
    }
   ],
   "source": [
    "# Your code here\n",
    "# Datos de ejemplo\n",
    "from statsmodels.stats.proportion import proportions_ztest\n",
    "\n",
    "# Datos de ejemplo (reemplaza con tus valores reales)\n",
    "count = len(salaries[salaries['Salary or Hourly'] == 'Hourly'])  # Número de trabajadores por hora\n",
    "nobs = len(salaries)  # Número total de empleados\n",
    "\n",
    "# Proporción hipotética a probar (25%)\n",
    "proporcion_nula = 0.25\n",
    "\n",
    "# Realizar la prueba de proporciones\n",
    "z_statistic, p_value = proportions_ztest(count,nobs,proporcion_nula)\n",
    "\n",
    "# Nivel de significancia (para un intervalo de confianza del 95%)\n",
    "alpha = 0.05\n",
    "\n",
    "# Imprimir resultados\n",
    "print(f'Estadístico z: {z_statistic:.4f}')\n",
    "print(f'Valor p: {p_value:.4f}')\n",
    "\n",
    "# Evaluar la hipótesis nula\n",
    "if p_value < alpha:\n",
    "    print(\"Rechazamos la hipótesis nula. Hay evidencia suficiente para concluir que la proporción de trabajadores por hora en Chicago es significativamente diferente del 25%.\")\n",
    "else:\n",
    "    print(\"No rechazamos la hipótesis nula. No hay evidencia suficiente para concluir que la proporción de trabajadores por hora en Chicago es significativamente diferente del 25%.\")\n",
    "\n",
    "\n",
    "\n"
   ]
  }
 ],
 "metadata": {
  "kernelspec": {
   "display_name": "Python 3 (ipykernel)",
   "language": "python",
   "name": "python3"
  },
  "language_info": {
   "codemirror_mode": {
    "name": "ipython",
    "version": 3
   },
   "file_extension": ".py",
   "mimetype": "text/x-python",
   "name": "python",
   "nbconvert_exporter": "python",
   "pygments_lexer": "ipython3",
   "version": "3.12.2"
  }
 },
 "nbformat": 4,
 "nbformat_minor": 2
}
